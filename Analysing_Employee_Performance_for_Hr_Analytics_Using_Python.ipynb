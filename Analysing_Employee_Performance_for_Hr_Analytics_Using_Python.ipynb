{
  "nbformat": 4,
  "nbformat_minor": 0,
  "metadata": {
    "colab": {
      "provenance": [],
      "authorship_tag": "ABX9TyM5OZ886/Bl3tZywC8ZyQIe",
      "include_colab_link": true
    },
    "kernelspec": {
      "name": "python3",
      "display_name": "Python 3"
    },
    "language_info": {
      "name": "python"
    }
  },
  "cells": [
    {
      "cell_type": "markdown",
      "metadata": {
        "id": "view-in-github",
        "colab_type": "text"
      },
      "source": [
        "<a href=\"https://colab.research.google.com/github/Shivaniatre/Analysing-Employee-Performance-for-Hr-Analytics-Using-Python-and-MySQL/blob/main/Analysing_Employee_Performance_for_Hr_Analytics_Using_Python.ipynb\" target=\"_parent\"><img src=\"https://colab.research.google.com/assets/colab-badge.svg\" alt=\"Open In Colab\"/></a>"
      ]
    },
    {
      "cell_type": "code",
      "execution_count": null,
      "metadata": {
        "id": "kyGCULBvRBYp"
      },
      "outputs": [],
      "source": [
        "#Import the Libraray\n",
        "import pandas as pd\n",
        "import numpy as np\n"
      ]
    },
    {
      "cell_type": "markdown",
      "source": [],
      "metadata": {
        "id": "p5TcmrHLXWHQ"
      }
    },
    {
      "cell_type": "code",
      "source": [
        "#Load the Dataset\n",
        "\n",
        "DB = pd.read_csv(\"/content/Uncleaned_employees_final_dataset.csv\")"
      ],
      "metadata": {
        "id": "n0Ih-yoKRp3C"
      },
      "execution_count": null,
      "outputs": []
    },
    {
      "cell_type": "code",
      "source": [
        "#View the Data  First 5 rows of data\n",
        "DB.head()"
      ],
      "metadata": {
        "colab": {
          "base_uri": "https://localhost:8080/",
          "height": 287
        },
        "id": "vJ6zAvNVSdLv",
        "outputId": "7d28f7fe-0ad4-413f-e27e-613e982cf598"
      },
      "execution_count": null,
      "outputs": [
        {
          "output_type": "execute_result",
          "data": {
            "text/plain": [
              "   employee_id         department     region  education gender  \\\n",
              "0         8724         Technology  region_26  Bachelors      m   \n",
              "1        74430                 HR   region_4  Bachelors      f   \n",
              "2        72255  Sales & Marketing  region_13  Bachelors      m   \n",
              "3        38562        Procurement   region_2  Bachelors      f   \n",
              "4        64486            Finance  region_29  Bachelors      m   \n",
              "\n",
              "  recruitment_channel  no_of_trainings  age  previous_year_rating  \\\n",
              "0            sourcing                1   24                   NaN   \n",
              "1               other                1   31                   3.0   \n",
              "2               other                1   31                   1.0   \n",
              "3               other                3   31                   2.0   \n",
              "4            sourcing                1   30                   4.0   \n",
              "\n",
              "   length_of_service  KPIs_met_more_than_80  awards_won  avg_training_score  \n",
              "0                  1                      1           0                  77  \n",
              "1                  5                      0           0                  51  \n",
              "2                  4                      0           0                  47  \n",
              "3                  9                      0           0                  65  \n",
              "4                  7                      0           0                  61  "
            ],
            "text/html": [
              "\n",
              "  <div id=\"df-e10cf999-388d-4a15-aa9b-f25042b39243\">\n",
              "    <div class=\"colab-df-container\">\n",
              "      <div>\n",
              "<style scoped>\n",
              "    .dataframe tbody tr th:only-of-type {\n",
              "        vertical-align: middle;\n",
              "    }\n",
              "\n",
              "    .dataframe tbody tr th {\n",
              "        vertical-align: top;\n",
              "    }\n",
              "\n",
              "    .dataframe thead th {\n",
              "        text-align: right;\n",
              "    }\n",
              "</style>\n",
              "<table border=\"1\" class=\"dataframe\">\n",
              "  <thead>\n",
              "    <tr style=\"text-align: right;\">\n",
              "      <th></th>\n",
              "      <th>employee_id</th>\n",
              "      <th>department</th>\n",
              "      <th>region</th>\n",
              "      <th>education</th>\n",
              "      <th>gender</th>\n",
              "      <th>recruitment_channel</th>\n",
              "      <th>no_of_trainings</th>\n",
              "      <th>age</th>\n",
              "      <th>previous_year_rating</th>\n",
              "      <th>length_of_service</th>\n",
              "      <th>KPIs_met_more_than_80</th>\n",
              "      <th>awards_won</th>\n",
              "      <th>avg_training_score</th>\n",
              "    </tr>\n",
              "  </thead>\n",
              "  <tbody>\n",
              "    <tr>\n",
              "      <th>0</th>\n",
              "      <td>8724</td>\n",
              "      <td>Technology</td>\n",
              "      <td>region_26</td>\n",
              "      <td>Bachelors</td>\n",
              "      <td>m</td>\n",
              "      <td>sourcing</td>\n",
              "      <td>1</td>\n",
              "      <td>24</td>\n",
              "      <td>NaN</td>\n",
              "      <td>1</td>\n",
              "      <td>1</td>\n",
              "      <td>0</td>\n",
              "      <td>77</td>\n",
              "    </tr>\n",
              "    <tr>\n",
              "      <th>1</th>\n",
              "      <td>74430</td>\n",
              "      <td>HR</td>\n",
              "      <td>region_4</td>\n",
              "      <td>Bachelors</td>\n",
              "      <td>f</td>\n",
              "      <td>other</td>\n",
              "      <td>1</td>\n",
              "      <td>31</td>\n",
              "      <td>3.0</td>\n",
              "      <td>5</td>\n",
              "      <td>0</td>\n",
              "      <td>0</td>\n",
              "      <td>51</td>\n",
              "    </tr>\n",
              "    <tr>\n",
              "      <th>2</th>\n",
              "      <td>72255</td>\n",
              "      <td>Sales &amp; Marketing</td>\n",
              "      <td>region_13</td>\n",
              "      <td>Bachelors</td>\n",
              "      <td>m</td>\n",
              "      <td>other</td>\n",
              "      <td>1</td>\n",
              "      <td>31</td>\n",
              "      <td>1.0</td>\n",
              "      <td>4</td>\n",
              "      <td>0</td>\n",
              "      <td>0</td>\n",
              "      <td>47</td>\n",
              "    </tr>\n",
              "    <tr>\n",
              "      <th>3</th>\n",
              "      <td>38562</td>\n",
              "      <td>Procurement</td>\n",
              "      <td>region_2</td>\n",
              "      <td>Bachelors</td>\n",
              "      <td>f</td>\n",
              "      <td>other</td>\n",
              "      <td>3</td>\n",
              "      <td>31</td>\n",
              "      <td>2.0</td>\n",
              "      <td>9</td>\n",
              "      <td>0</td>\n",
              "      <td>0</td>\n",
              "      <td>65</td>\n",
              "    </tr>\n",
              "    <tr>\n",
              "      <th>4</th>\n",
              "      <td>64486</td>\n",
              "      <td>Finance</td>\n",
              "      <td>region_29</td>\n",
              "      <td>Bachelors</td>\n",
              "      <td>m</td>\n",
              "      <td>sourcing</td>\n",
              "      <td>1</td>\n",
              "      <td>30</td>\n",
              "      <td>4.0</td>\n",
              "      <td>7</td>\n",
              "      <td>0</td>\n",
              "      <td>0</td>\n",
              "      <td>61</td>\n",
              "    </tr>\n",
              "  </tbody>\n",
              "</table>\n",
              "</div>\n",
              "      <button class=\"colab-df-convert\" onclick=\"convertToInteractive('df-e10cf999-388d-4a15-aa9b-f25042b39243')\"\n",
              "              title=\"Convert this dataframe to an interactive table.\"\n",
              "              style=\"display:none;\">\n",
              "        \n",
              "  <svg xmlns=\"http://www.w3.org/2000/svg\" height=\"24px\"viewBox=\"0 0 24 24\"\n",
              "       width=\"24px\">\n",
              "    <path d=\"M0 0h24v24H0V0z\" fill=\"none\"/>\n",
              "    <path d=\"M18.56 5.44l.94 2.06.94-2.06 2.06-.94-2.06-.94-.94-2.06-.94 2.06-2.06.94zm-11 1L8.5 8.5l.94-2.06 2.06-.94-2.06-.94L8.5 2.5l-.94 2.06-2.06.94zm10 10l.94 2.06.94-2.06 2.06-.94-2.06-.94-.94-2.06-.94 2.06-2.06.94z\"/><path d=\"M17.41 7.96l-1.37-1.37c-.4-.4-.92-.59-1.43-.59-.52 0-1.04.2-1.43.59L10.3 9.45l-7.72 7.72c-.78.78-.78 2.05 0 2.83L4 21.41c.39.39.9.59 1.41.59.51 0 1.02-.2 1.41-.59l7.78-7.78 2.81-2.81c.8-.78.8-2.07 0-2.86zM5.41 20L4 18.59l7.72-7.72 1.47 1.35L5.41 20z\"/>\n",
              "  </svg>\n",
              "      </button>\n",
              "      \n",
              "  <style>\n",
              "    .colab-df-container {\n",
              "      display:flex;\n",
              "      flex-wrap:wrap;\n",
              "      gap: 12px;\n",
              "    }\n",
              "\n",
              "    .colab-df-convert {\n",
              "      background-color: #E8F0FE;\n",
              "      border: none;\n",
              "      border-radius: 50%;\n",
              "      cursor: pointer;\n",
              "      display: none;\n",
              "      fill: #1967D2;\n",
              "      height: 32px;\n",
              "      padding: 0 0 0 0;\n",
              "      width: 32px;\n",
              "    }\n",
              "\n",
              "    .colab-df-convert:hover {\n",
              "      background-color: #E2EBFA;\n",
              "      box-shadow: 0px 1px 2px rgba(60, 64, 67, 0.3), 0px 1px 3px 1px rgba(60, 64, 67, 0.15);\n",
              "      fill: #174EA6;\n",
              "    }\n",
              "\n",
              "    [theme=dark] .colab-df-convert {\n",
              "      background-color: #3B4455;\n",
              "      fill: #D2E3FC;\n",
              "    }\n",
              "\n",
              "    [theme=dark] .colab-df-convert:hover {\n",
              "      background-color: #434B5C;\n",
              "      box-shadow: 0px 1px 3px 1px rgba(0, 0, 0, 0.15);\n",
              "      filter: drop-shadow(0px 1px 2px rgba(0, 0, 0, 0.3));\n",
              "      fill: #FFFFFF;\n",
              "    }\n",
              "  </style>\n",
              "\n",
              "      <script>\n",
              "        const buttonEl =\n",
              "          document.querySelector('#df-e10cf999-388d-4a15-aa9b-f25042b39243 button.colab-df-convert');\n",
              "        buttonEl.style.display =\n",
              "          google.colab.kernel.accessAllowed ? 'block' : 'none';\n",
              "\n",
              "        async function convertToInteractive(key) {\n",
              "          const element = document.querySelector('#df-e10cf999-388d-4a15-aa9b-f25042b39243');\n",
              "          const dataTable =\n",
              "            await google.colab.kernel.invokeFunction('convertToInteractive',\n",
              "                                                     [key], {});\n",
              "          if (!dataTable) return;\n",
              "\n",
              "          const docLinkHtml = 'Like what you see? Visit the ' +\n",
              "            '<a target=\"_blank\" href=https://colab.research.google.com/notebooks/data_table.ipynb>data table notebook</a>'\n",
              "            + ' to learn more about interactive tables.';\n",
              "          element.innerHTML = '';\n",
              "          dataTable['output_type'] = 'display_data';\n",
              "          await google.colab.output.renderOutput(dataTable, element);\n",
              "          const docLink = document.createElement('div');\n",
              "          docLink.innerHTML = docLinkHtml;\n",
              "          element.appendChild(docLink);\n",
              "        }\n",
              "      </script>\n",
              "    </div>\n",
              "  </div>\n",
              "  "
            ]
          },
          "metadata": {},
          "execution_count": 5
        }
      ]
    },
    {
      "cell_type": "code",
      "source": [
        "# Last 5 rows of data\n",
        "DB.tail()"
      ],
      "metadata": {
        "colab": {
          "base_uri": "https://localhost:8080/",
          "height": 270
        },
        "id": "2XK7zeliTIac",
        "outputId": "fbd6ee3d-54dc-497e-bf7a-e56c3ee6abc4"
      },
      "execution_count": null,
      "outputs": [
        {
          "output_type": "execute_result",
          "data": {
            "text/plain": [
              "       employee_id  department    region  education gender  \\\n",
              "17412        64573  Technology  region_7  Bachelors      f   \n",
              "17413        49584          HR  region_7  Bachelors      m   \n",
              "17414        49584          HR  region_7  Bachelors      m   \n",
              "17415        49584          HR  region_7  Bachelors      m   \n",
              "17416        64573          HR  region_7  Bachelors      f   \n",
              "\n",
              "      recruitment_channel  no_of_trainings  age  previous_year_rating  \\\n",
              "17412            referred                2   30                   5.0   \n",
              "17413               other                1   33                   1.0   \n",
              "17414               other                1   33                   1.0   \n",
              "17415               other                1   33                   1.0   \n",
              "17416            referred                1   35                   5.0   \n",
              "\n",
              "       length_of_service  KPIs_met_more_than_80  awards_won  \\\n",
              "17412                  6                      1           0   \n",
              "17413                  9                      0           0   \n",
              "17414                  9                      0           0   \n",
              "17415                  9                      0           0   \n",
              "17416                  4                      1           0   \n",
              "\n",
              "       avg_training_score  \n",
              "17412                  81  \n",
              "17413                  51  \n",
              "17414                  51  \n",
              "17415                  51  \n",
              "17416                  81  "
            ],
            "text/html": [
              "\n",
              "  <div id=\"df-15f88443-c50a-42e8-a378-31930c0a981c\">\n",
              "    <div class=\"colab-df-container\">\n",
              "      <div>\n",
              "<style scoped>\n",
              "    .dataframe tbody tr th:only-of-type {\n",
              "        vertical-align: middle;\n",
              "    }\n",
              "\n",
              "    .dataframe tbody tr th {\n",
              "        vertical-align: top;\n",
              "    }\n",
              "\n",
              "    .dataframe thead th {\n",
              "        text-align: right;\n",
              "    }\n",
              "</style>\n",
              "<table border=\"1\" class=\"dataframe\">\n",
              "  <thead>\n",
              "    <tr style=\"text-align: right;\">\n",
              "      <th></th>\n",
              "      <th>employee_id</th>\n",
              "      <th>department</th>\n",
              "      <th>region</th>\n",
              "      <th>education</th>\n",
              "      <th>gender</th>\n",
              "      <th>recruitment_channel</th>\n",
              "      <th>no_of_trainings</th>\n",
              "      <th>age</th>\n",
              "      <th>previous_year_rating</th>\n",
              "      <th>length_of_service</th>\n",
              "      <th>KPIs_met_more_than_80</th>\n",
              "      <th>awards_won</th>\n",
              "      <th>avg_training_score</th>\n",
              "    </tr>\n",
              "  </thead>\n",
              "  <tbody>\n",
              "    <tr>\n",
              "      <th>17412</th>\n",
              "      <td>64573</td>\n",
              "      <td>Technology</td>\n",
              "      <td>region_7</td>\n",
              "      <td>Bachelors</td>\n",
              "      <td>f</td>\n",
              "      <td>referred</td>\n",
              "      <td>2</td>\n",
              "      <td>30</td>\n",
              "      <td>5.0</td>\n",
              "      <td>6</td>\n",
              "      <td>1</td>\n",
              "      <td>0</td>\n",
              "      <td>81</td>\n",
              "    </tr>\n",
              "    <tr>\n",
              "      <th>17413</th>\n",
              "      <td>49584</td>\n",
              "      <td>HR</td>\n",
              "      <td>region_7</td>\n",
              "      <td>Bachelors</td>\n",
              "      <td>m</td>\n",
              "      <td>other</td>\n",
              "      <td>1</td>\n",
              "      <td>33</td>\n",
              "      <td>1.0</td>\n",
              "      <td>9</td>\n",
              "      <td>0</td>\n",
              "      <td>0</td>\n",
              "      <td>51</td>\n",
              "    </tr>\n",
              "    <tr>\n",
              "      <th>17414</th>\n",
              "      <td>49584</td>\n",
              "      <td>HR</td>\n",
              "      <td>region_7</td>\n",
              "      <td>Bachelors</td>\n",
              "      <td>m</td>\n",
              "      <td>other</td>\n",
              "      <td>1</td>\n",
              "      <td>33</td>\n",
              "      <td>1.0</td>\n",
              "      <td>9</td>\n",
              "      <td>0</td>\n",
              "      <td>0</td>\n",
              "      <td>51</td>\n",
              "    </tr>\n",
              "    <tr>\n",
              "      <th>17415</th>\n",
              "      <td>49584</td>\n",
              "      <td>HR</td>\n",
              "      <td>region_7</td>\n",
              "      <td>Bachelors</td>\n",
              "      <td>m</td>\n",
              "      <td>other</td>\n",
              "      <td>1</td>\n",
              "      <td>33</td>\n",
              "      <td>1.0</td>\n",
              "      <td>9</td>\n",
              "      <td>0</td>\n",
              "      <td>0</td>\n",
              "      <td>51</td>\n",
              "    </tr>\n",
              "    <tr>\n",
              "      <th>17416</th>\n",
              "      <td>64573</td>\n",
              "      <td>HR</td>\n",
              "      <td>region_7</td>\n",
              "      <td>Bachelors</td>\n",
              "      <td>f</td>\n",
              "      <td>referred</td>\n",
              "      <td>1</td>\n",
              "      <td>35</td>\n",
              "      <td>5.0</td>\n",
              "      <td>4</td>\n",
              "      <td>1</td>\n",
              "      <td>0</td>\n",
              "      <td>81</td>\n",
              "    </tr>\n",
              "  </tbody>\n",
              "</table>\n",
              "</div>\n",
              "      <button class=\"colab-df-convert\" onclick=\"convertToInteractive('df-15f88443-c50a-42e8-a378-31930c0a981c')\"\n",
              "              title=\"Convert this dataframe to an interactive table.\"\n",
              "              style=\"display:none;\">\n",
              "        \n",
              "  <svg xmlns=\"http://www.w3.org/2000/svg\" height=\"24px\"viewBox=\"0 0 24 24\"\n",
              "       width=\"24px\">\n",
              "    <path d=\"M0 0h24v24H0V0z\" fill=\"none\"/>\n",
              "    <path d=\"M18.56 5.44l.94 2.06.94-2.06 2.06-.94-2.06-.94-.94-2.06-.94 2.06-2.06.94zm-11 1L8.5 8.5l.94-2.06 2.06-.94-2.06-.94L8.5 2.5l-.94 2.06-2.06.94zm10 10l.94 2.06.94-2.06 2.06-.94-2.06-.94-.94-2.06-.94 2.06-2.06.94z\"/><path d=\"M17.41 7.96l-1.37-1.37c-.4-.4-.92-.59-1.43-.59-.52 0-1.04.2-1.43.59L10.3 9.45l-7.72 7.72c-.78.78-.78 2.05 0 2.83L4 21.41c.39.39.9.59 1.41.59.51 0 1.02-.2 1.41-.59l7.78-7.78 2.81-2.81c.8-.78.8-2.07 0-2.86zM5.41 20L4 18.59l7.72-7.72 1.47 1.35L5.41 20z\"/>\n",
              "  </svg>\n",
              "      </button>\n",
              "      \n",
              "  <style>\n",
              "    .colab-df-container {\n",
              "      display:flex;\n",
              "      flex-wrap:wrap;\n",
              "      gap: 12px;\n",
              "    }\n",
              "\n",
              "    .colab-df-convert {\n",
              "      background-color: #E8F0FE;\n",
              "      border: none;\n",
              "      border-radius: 50%;\n",
              "      cursor: pointer;\n",
              "      display: none;\n",
              "      fill: #1967D2;\n",
              "      height: 32px;\n",
              "      padding: 0 0 0 0;\n",
              "      width: 32px;\n",
              "    }\n",
              "\n",
              "    .colab-df-convert:hover {\n",
              "      background-color: #E2EBFA;\n",
              "      box-shadow: 0px 1px 2px rgba(60, 64, 67, 0.3), 0px 1px 3px 1px rgba(60, 64, 67, 0.15);\n",
              "      fill: #174EA6;\n",
              "    }\n",
              "\n",
              "    [theme=dark] .colab-df-convert {\n",
              "      background-color: #3B4455;\n",
              "      fill: #D2E3FC;\n",
              "    }\n",
              "\n",
              "    [theme=dark] .colab-df-convert:hover {\n",
              "      background-color: #434B5C;\n",
              "      box-shadow: 0px 1px 3px 1px rgba(0, 0, 0, 0.15);\n",
              "      filter: drop-shadow(0px 1px 2px rgba(0, 0, 0, 0.3));\n",
              "      fill: #FFFFFF;\n",
              "    }\n",
              "  </style>\n",
              "\n",
              "      <script>\n",
              "        const buttonEl =\n",
              "          document.querySelector('#df-15f88443-c50a-42e8-a378-31930c0a981c button.colab-df-convert');\n",
              "        buttonEl.style.display =\n",
              "          google.colab.kernel.accessAllowed ? 'block' : 'none';\n",
              "\n",
              "        async function convertToInteractive(key) {\n",
              "          const element = document.querySelector('#df-15f88443-c50a-42e8-a378-31930c0a981c');\n",
              "          const dataTable =\n",
              "            await google.colab.kernel.invokeFunction('convertToInteractive',\n",
              "                                                     [key], {});\n",
              "          if (!dataTable) return;\n",
              "\n",
              "          const docLinkHtml = 'Like what you see? Visit the ' +\n",
              "            '<a target=\"_blank\" href=https://colab.research.google.com/notebooks/data_table.ipynb>data table notebook</a>'\n",
              "            + ' to learn more about interactive tables.';\n",
              "          element.innerHTML = '';\n",
              "          dataTable['output_type'] = 'display_data';\n",
              "          await google.colab.output.renderOutput(dataTable, element);\n",
              "          const docLink = document.createElement('div');\n",
              "          docLink.innerHTML = docLinkHtml;\n",
              "          element.appendChild(docLink);\n",
              "        }\n",
              "      </script>\n",
              "    </div>\n",
              "  </div>\n",
              "  "
            ]
          },
          "metadata": {},
          "execution_count": 6
        }
      ]
    },
    {
      "cell_type": "code",
      "source": [
        "#View the Shape\n",
        "DB.shape"
      ],
      "metadata": {
        "colab": {
          "base_uri": "https://localhost:8080/"
        },
        "id": "XGGYxBg3Tdnz",
        "outputId": "40aee6e5-a6dc-4994-d5c9-405a61b92fcc"
      },
      "execution_count": null,
      "outputs": [
        {
          "output_type": "execute_result",
          "data": {
            "text/plain": [
              "(17417, 13)"
            ]
          },
          "metadata": {},
          "execution_count": 8
        }
      ]
    },
    {
      "cell_type": "code",
      "source": [
        "#Information prints the column header and the data type stored in each column\n",
        "DB.info()"
      ],
      "metadata": {
        "colab": {
          "base_uri": "https://localhost:8080/"
        },
        "id": "_5_8-K3sT0wL",
        "outputId": "5633e53c-dab1-4b1a-8c5a-2d86075cf115"
      },
      "execution_count": null,
      "outputs": [
        {
          "output_type": "stream",
          "name": "stdout",
          "text": [
            "<class 'pandas.core.frame.DataFrame'>\n",
            "RangeIndex: 17417 entries, 0 to 17416\n",
            "Data columns (total 13 columns):\n",
            " #   Column                 Non-Null Count  Dtype  \n",
            "---  ------                 --------------  -----  \n",
            " 0   employee_id            17417 non-null  int64  \n",
            " 1   department             17417 non-null  object \n",
            " 2   region                 17417 non-null  object \n",
            " 3   education              16646 non-null  object \n",
            " 4   gender                 17417 non-null  object \n",
            " 5   recruitment_channel    17417 non-null  object \n",
            " 6   no_of_trainings        17417 non-null  int64  \n",
            " 7   age                    17417 non-null  int64  \n",
            " 8   previous_year_rating   16054 non-null  float64\n",
            " 9   length_of_service      17417 non-null  int64  \n",
            " 10  KPIs_met_more_than_80  17417 non-null  int64  \n",
            " 11  awards_won             17417 non-null  int64  \n",
            " 12  avg_training_score     17417 non-null  int64  \n",
            "dtypes: float64(1), int64(7), object(5)\n",
            "memory usage: 1.7+ MB\n"
          ]
        }
      ]
    },
    {
      "cell_type": "code",
      "source": [
        "#To check Datatype\n",
        "DB.dtypes"
      ],
      "metadata": {
        "colab": {
          "base_uri": "https://localhost:8080/"
        },
        "id": "qUJ1BdKKUEuy",
        "outputId": "9227ffd4-e29d-4518-a7dd-213ebdd73e1b"
      },
      "execution_count": null,
      "outputs": [
        {
          "output_type": "execute_result",
          "data": {
            "text/plain": [
              "employee_id                int64\n",
              "department                object\n",
              "region                    object\n",
              "education                 object\n",
              "gender                    object\n",
              "recruitment_channel       object\n",
              "no_of_trainings            int64\n",
              "age                        int64\n",
              "previous_year_rating     float64\n",
              "length_of_service          int64\n",
              "KPIs_met_more_than_80      int64\n",
              "awards_won                 int64\n",
              "avg_training_score         int64\n",
              "dtype: object"
            ]
          },
          "metadata": {},
          "execution_count": 10
        }
      ]
    },
    {
      "cell_type": "code",
      "source": [
        "#Count the number of datapoints\n",
        "DB.count()"
      ],
      "metadata": {
        "colab": {
          "base_uri": "https://localhost:8080/"
        },
        "id": "klW8wM0SUNxy",
        "outputId": "d35b0230-c2fd-4276-a8e5-493cfc29dde7"
      },
      "execution_count": null,
      "outputs": [
        {
          "output_type": "execute_result",
          "data": {
            "text/plain": [
              "employee_id              17417\n",
              "department               17417\n",
              "region                   17417\n",
              "education                16646\n",
              "gender                   17417\n",
              "recruitment_channel      17417\n",
              "no_of_trainings          17417\n",
              "age                      17417\n",
              "previous_year_rating     16054\n",
              "length_of_service        17417\n",
              "KPIs_met_more_than_80    17417\n",
              "awards_won               17417\n",
              "avg_training_score       17417\n",
              "dtype: int64"
            ]
          },
          "metadata": {},
          "execution_count": 11
        }
      ]
    },
    {
      "cell_type": "code",
      "source": [
        "#Identifying dupliacte rows\n",
        "\n",
        "DB.duplicated().sum()\n",
        "\n"
      ],
      "metadata": {
        "colab": {
          "base_uri": "https://localhost:8080/"
        },
        "id": "idiKcUzMU3sI",
        "outputId": "2d82be9a-aaa3-456b-998f-c0a76f63360f"
      },
      "execution_count": null,
      "outputs": [
        {
          "output_type": "execute_result",
          "data": {
            "text/plain": [
              "2"
            ]
          },
          "metadata": {},
          "execution_count": 16
        }
      ]
    },
    {
      "cell_type": "code",
      "source": [
        "#Remove the duplicate row\n",
        "DB.drop_duplicates(keep =False)"
      ],
      "metadata": {
        "colab": {
          "base_uri": "https://localhost:8080/",
          "height": 557
        },
        "id": "AjLvu4TkYYmK",
        "outputId": "e7674705-52af-4c8f-e3bf-ca43fb0d77ad"
      },
      "execution_count": null,
      "outputs": [
        {
          "output_type": "execute_result",
          "data": {
            "text/plain": [
              "       employee_id         department     region        education gender  \\\n",
              "0             8724         Technology  region_26        Bachelors      m   \n",
              "1            74430                 HR   region_4        Bachelors      f   \n",
              "2            72255  Sales & Marketing  region_13        Bachelors      m   \n",
              "3            38562        Procurement   region_2        Bachelors      f   \n",
              "4            64486            Finance  region_29        Bachelors      m   \n",
              "...            ...                ...        ...              ...    ...   \n",
              "17409        54192                 HR  region_22  Below Secondary      m   \n",
              "17410        57239  Sales & Marketing  region_31        Bachelors      m   \n",
              "17411        73858  Sales & Marketing  region_25        Bachelors      m   \n",
              "17412        64573         Technology   region_7        Bachelors      f   \n",
              "17416        64573                 HR   region_7        Bachelors      f   \n",
              "\n",
              "      recruitment_channel  no_of_trainings  age  previous_year_rating  \\\n",
              "0                sourcing                1   24                   NaN   \n",
              "1                   other                1   31                   3.0   \n",
              "2                   other                1   31                   1.0   \n",
              "3                   other                3   31                   2.0   \n",
              "4                sourcing                1   30                   4.0   \n",
              "...                   ...              ...  ...                   ...   \n",
              "17409               other                1   24                   2.0   \n",
              "17410               other                1   42                   3.0   \n",
              "17411            sourcing                2   28                   2.0   \n",
              "17412            referred                2   30                   5.0   \n",
              "17416            referred                1   35                   5.0   \n",
              "\n",
              "       length_of_service  KPIs_met_more_than_80  awards_won  \\\n",
              "0                      1                      1           0   \n",
              "1                      5                      0           0   \n",
              "2                      4                      0           0   \n",
              "3                      9                      0           0   \n",
              "4                      7                      0           0   \n",
              "...                  ...                    ...         ...   \n",
              "17409                  2                      0           0   \n",
              "17410                 10                      0           0   \n",
              "17411                  5                      0           0   \n",
              "17412                  6                      1           0   \n",
              "17416                  4                      1           0   \n",
              "\n",
              "       avg_training_score  \n",
              "0                      77  \n",
              "1                      51  \n",
              "2                      47  \n",
              "3                      65  \n",
              "4                      61  \n",
              "...                   ...  \n",
              "17409                  47  \n",
              "17410                  53  \n",
              "17411                  45  \n",
              "17412                  81  \n",
              "17416                  81  \n",
              "\n",
              "[17414 rows x 13 columns]"
            ],
            "text/html": [
              "\n",
              "  <div id=\"df-36f38f9b-9676-4e02-a51c-99578606e0d9\">\n",
              "    <div class=\"colab-df-container\">\n",
              "      <div>\n",
              "<style scoped>\n",
              "    .dataframe tbody tr th:only-of-type {\n",
              "        vertical-align: middle;\n",
              "    }\n",
              "\n",
              "    .dataframe tbody tr th {\n",
              "        vertical-align: top;\n",
              "    }\n",
              "\n",
              "    .dataframe thead th {\n",
              "        text-align: right;\n",
              "    }\n",
              "</style>\n",
              "<table border=\"1\" class=\"dataframe\">\n",
              "  <thead>\n",
              "    <tr style=\"text-align: right;\">\n",
              "      <th></th>\n",
              "      <th>employee_id</th>\n",
              "      <th>department</th>\n",
              "      <th>region</th>\n",
              "      <th>education</th>\n",
              "      <th>gender</th>\n",
              "      <th>recruitment_channel</th>\n",
              "      <th>no_of_trainings</th>\n",
              "      <th>age</th>\n",
              "      <th>previous_year_rating</th>\n",
              "      <th>length_of_service</th>\n",
              "      <th>KPIs_met_more_than_80</th>\n",
              "      <th>awards_won</th>\n",
              "      <th>avg_training_score</th>\n",
              "    </tr>\n",
              "  </thead>\n",
              "  <tbody>\n",
              "    <tr>\n",
              "      <th>0</th>\n",
              "      <td>8724</td>\n",
              "      <td>Technology</td>\n",
              "      <td>region_26</td>\n",
              "      <td>Bachelors</td>\n",
              "      <td>m</td>\n",
              "      <td>sourcing</td>\n",
              "      <td>1</td>\n",
              "      <td>24</td>\n",
              "      <td>NaN</td>\n",
              "      <td>1</td>\n",
              "      <td>1</td>\n",
              "      <td>0</td>\n",
              "      <td>77</td>\n",
              "    </tr>\n",
              "    <tr>\n",
              "      <th>1</th>\n",
              "      <td>74430</td>\n",
              "      <td>HR</td>\n",
              "      <td>region_4</td>\n",
              "      <td>Bachelors</td>\n",
              "      <td>f</td>\n",
              "      <td>other</td>\n",
              "      <td>1</td>\n",
              "      <td>31</td>\n",
              "      <td>3.0</td>\n",
              "      <td>5</td>\n",
              "      <td>0</td>\n",
              "      <td>0</td>\n",
              "      <td>51</td>\n",
              "    </tr>\n",
              "    <tr>\n",
              "      <th>2</th>\n",
              "      <td>72255</td>\n",
              "      <td>Sales &amp; Marketing</td>\n",
              "      <td>region_13</td>\n",
              "      <td>Bachelors</td>\n",
              "      <td>m</td>\n",
              "      <td>other</td>\n",
              "      <td>1</td>\n",
              "      <td>31</td>\n",
              "      <td>1.0</td>\n",
              "      <td>4</td>\n",
              "      <td>0</td>\n",
              "      <td>0</td>\n",
              "      <td>47</td>\n",
              "    </tr>\n",
              "    <tr>\n",
              "      <th>3</th>\n",
              "      <td>38562</td>\n",
              "      <td>Procurement</td>\n",
              "      <td>region_2</td>\n",
              "      <td>Bachelors</td>\n",
              "      <td>f</td>\n",
              "      <td>other</td>\n",
              "      <td>3</td>\n",
              "      <td>31</td>\n",
              "      <td>2.0</td>\n",
              "      <td>9</td>\n",
              "      <td>0</td>\n",
              "      <td>0</td>\n",
              "      <td>65</td>\n",
              "    </tr>\n",
              "    <tr>\n",
              "      <th>4</th>\n",
              "      <td>64486</td>\n",
              "      <td>Finance</td>\n",
              "      <td>region_29</td>\n",
              "      <td>Bachelors</td>\n",
              "      <td>m</td>\n",
              "      <td>sourcing</td>\n",
              "      <td>1</td>\n",
              "      <td>30</td>\n",
              "      <td>4.0</td>\n",
              "      <td>7</td>\n",
              "      <td>0</td>\n",
              "      <td>0</td>\n",
              "      <td>61</td>\n",
              "    </tr>\n",
              "    <tr>\n",
              "      <th>...</th>\n",
              "      <td>...</td>\n",
              "      <td>...</td>\n",
              "      <td>...</td>\n",
              "      <td>...</td>\n",
              "      <td>...</td>\n",
              "      <td>...</td>\n",
              "      <td>...</td>\n",
              "      <td>...</td>\n",
              "      <td>...</td>\n",
              "      <td>...</td>\n",
              "      <td>...</td>\n",
              "      <td>...</td>\n",
              "      <td>...</td>\n",
              "    </tr>\n",
              "    <tr>\n",
              "      <th>17409</th>\n",
              "      <td>54192</td>\n",
              "      <td>HR</td>\n",
              "      <td>region_22</td>\n",
              "      <td>Below Secondary</td>\n",
              "      <td>m</td>\n",
              "      <td>other</td>\n",
              "      <td>1</td>\n",
              "      <td>24</td>\n",
              "      <td>2.0</td>\n",
              "      <td>2</td>\n",
              "      <td>0</td>\n",
              "      <td>0</td>\n",
              "      <td>47</td>\n",
              "    </tr>\n",
              "    <tr>\n",
              "      <th>17410</th>\n",
              "      <td>57239</td>\n",
              "      <td>Sales &amp; Marketing</td>\n",
              "      <td>region_31</td>\n",
              "      <td>Bachelors</td>\n",
              "      <td>m</td>\n",
              "      <td>other</td>\n",
              "      <td>1</td>\n",
              "      <td>42</td>\n",
              "      <td>3.0</td>\n",
              "      <td>10</td>\n",
              "      <td>0</td>\n",
              "      <td>0</td>\n",
              "      <td>53</td>\n",
              "    </tr>\n",
              "    <tr>\n",
              "      <th>17411</th>\n",
              "      <td>73858</td>\n",
              "      <td>Sales &amp; Marketing</td>\n",
              "      <td>region_25</td>\n",
              "      <td>Bachelors</td>\n",
              "      <td>m</td>\n",
              "      <td>sourcing</td>\n",
              "      <td>2</td>\n",
              "      <td>28</td>\n",
              "      <td>2.0</td>\n",
              "      <td>5</td>\n",
              "      <td>0</td>\n",
              "      <td>0</td>\n",
              "      <td>45</td>\n",
              "    </tr>\n",
              "    <tr>\n",
              "      <th>17412</th>\n",
              "      <td>64573</td>\n",
              "      <td>Technology</td>\n",
              "      <td>region_7</td>\n",
              "      <td>Bachelors</td>\n",
              "      <td>f</td>\n",
              "      <td>referred</td>\n",
              "      <td>2</td>\n",
              "      <td>30</td>\n",
              "      <td>5.0</td>\n",
              "      <td>6</td>\n",
              "      <td>1</td>\n",
              "      <td>0</td>\n",
              "      <td>81</td>\n",
              "    </tr>\n",
              "    <tr>\n",
              "      <th>17416</th>\n",
              "      <td>64573</td>\n",
              "      <td>HR</td>\n",
              "      <td>region_7</td>\n",
              "      <td>Bachelors</td>\n",
              "      <td>f</td>\n",
              "      <td>referred</td>\n",
              "      <td>1</td>\n",
              "      <td>35</td>\n",
              "      <td>5.0</td>\n",
              "      <td>4</td>\n",
              "      <td>1</td>\n",
              "      <td>0</td>\n",
              "      <td>81</td>\n",
              "    </tr>\n",
              "  </tbody>\n",
              "</table>\n",
              "<p>17414 rows × 13 columns</p>\n",
              "</div>\n",
              "      <button class=\"colab-df-convert\" onclick=\"convertToInteractive('df-36f38f9b-9676-4e02-a51c-99578606e0d9')\"\n",
              "              title=\"Convert this dataframe to an interactive table.\"\n",
              "              style=\"display:none;\">\n",
              "        \n",
              "  <svg xmlns=\"http://www.w3.org/2000/svg\" height=\"24px\"viewBox=\"0 0 24 24\"\n",
              "       width=\"24px\">\n",
              "    <path d=\"M0 0h24v24H0V0z\" fill=\"none\"/>\n",
              "    <path d=\"M18.56 5.44l.94 2.06.94-2.06 2.06-.94-2.06-.94-.94-2.06-.94 2.06-2.06.94zm-11 1L8.5 8.5l.94-2.06 2.06-.94-2.06-.94L8.5 2.5l-.94 2.06-2.06.94zm10 10l.94 2.06.94-2.06 2.06-.94-2.06-.94-.94-2.06-.94 2.06-2.06.94z\"/><path d=\"M17.41 7.96l-1.37-1.37c-.4-.4-.92-.59-1.43-.59-.52 0-1.04.2-1.43.59L10.3 9.45l-7.72 7.72c-.78.78-.78 2.05 0 2.83L4 21.41c.39.39.9.59 1.41.59.51 0 1.02-.2 1.41-.59l7.78-7.78 2.81-2.81c.8-.78.8-2.07 0-2.86zM5.41 20L4 18.59l7.72-7.72 1.47 1.35L5.41 20z\"/>\n",
              "  </svg>\n",
              "      </button>\n",
              "      \n",
              "  <style>\n",
              "    .colab-df-container {\n",
              "      display:flex;\n",
              "      flex-wrap:wrap;\n",
              "      gap: 12px;\n",
              "    }\n",
              "\n",
              "    .colab-df-convert {\n",
              "      background-color: #E8F0FE;\n",
              "      border: none;\n",
              "      border-radius: 50%;\n",
              "      cursor: pointer;\n",
              "      display: none;\n",
              "      fill: #1967D2;\n",
              "      height: 32px;\n",
              "      padding: 0 0 0 0;\n",
              "      width: 32px;\n",
              "    }\n",
              "\n",
              "    .colab-df-convert:hover {\n",
              "      background-color: #E2EBFA;\n",
              "      box-shadow: 0px 1px 2px rgba(60, 64, 67, 0.3), 0px 1px 3px 1px rgba(60, 64, 67, 0.15);\n",
              "      fill: #174EA6;\n",
              "    }\n",
              "\n",
              "    [theme=dark] .colab-df-convert {\n",
              "      background-color: #3B4455;\n",
              "      fill: #D2E3FC;\n",
              "    }\n",
              "\n",
              "    [theme=dark] .colab-df-convert:hover {\n",
              "      background-color: #434B5C;\n",
              "      box-shadow: 0px 1px 3px 1px rgba(0, 0, 0, 0.15);\n",
              "      filter: drop-shadow(0px 1px 2px rgba(0, 0, 0, 0.3));\n",
              "      fill: #FFFFFF;\n",
              "    }\n",
              "  </style>\n",
              "\n",
              "      <script>\n",
              "        const buttonEl =\n",
              "          document.querySelector('#df-36f38f9b-9676-4e02-a51c-99578606e0d9 button.colab-df-convert');\n",
              "        buttonEl.style.display =\n",
              "          google.colab.kernel.accessAllowed ? 'block' : 'none';\n",
              "\n",
              "        async function convertToInteractive(key) {\n",
              "          const element = document.querySelector('#df-36f38f9b-9676-4e02-a51c-99578606e0d9');\n",
              "          const dataTable =\n",
              "            await google.colab.kernel.invokeFunction('convertToInteractive',\n",
              "                                                     [key], {});\n",
              "          if (!dataTable) return;\n",
              "\n",
              "          const docLinkHtml = 'Like what you see? Visit the ' +\n",
              "            '<a target=\"_blank\" href=https://colab.research.google.com/notebooks/data_table.ipynb>data table notebook</a>'\n",
              "            + ' to learn more about interactive tables.';\n",
              "          element.innerHTML = '';\n",
              "          dataTable['output_type'] = 'display_data';\n",
              "          await google.colab.output.renderOutput(dataTable, element);\n",
              "          const docLink = document.createElement('div');\n",
              "          docLink.innerHTML = docLinkHtml;\n",
              "          element.appendChild(docLink);\n",
              "        }\n",
              "      </script>\n",
              "    </div>\n",
              "  </div>\n",
              "  "
            ]
          },
          "metadata": {},
          "execution_count": 18
        }
      ]
    },
    {
      "cell_type": "code",
      "source": [
        "#Checking Missing values\n",
        "DB.isnull().sum()"
      ],
      "metadata": {
        "colab": {
          "base_uri": "https://localhost:8080/"
        },
        "id": "UBSNWDvfZgTk",
        "outputId": "608cde86-e636-46ba-dfa4-4316c268faee"
      },
      "execution_count": null,
      "outputs": [
        {
          "output_type": "execute_result",
          "data": {
            "text/plain": [
              "employee_id                 0\n",
              "department                  0\n",
              "region                      0\n",
              "education                 771\n",
              "gender                      0\n",
              "recruitment_channel         0\n",
              "no_of_trainings             0\n",
              "age                         0\n",
              "previous_year_rating     1363\n",
              "length_of_service           0\n",
              "KPIs_met_more_than_80       0\n",
              "awards_won                  0\n",
              "avg_training_score          0\n",
              "dtype: int64"
            ]
          },
          "metadata": {},
          "execution_count": 19
        }
      ]
    },
    {
      "cell_type": "code",
      "source": [
        "#To remove duplicates rows from coulmns\n",
        "DB = DB.dropna(subset = ['education'])"
      ],
      "metadata": {
        "id": "mdaqlaG1Ztzj"
      },
      "execution_count": null,
      "outputs": []
    },
    {
      "cell_type": "code",
      "source": [
        "DB.info()"
      ],
      "metadata": {
        "colab": {
          "base_uri": "https://localhost:8080/"
        },
        "id": "IYgPOfg9cGoN",
        "outputId": "8d84fff7-e15a-4c06-88d7-01aeb3cafb81"
      },
      "execution_count": null,
      "outputs": [
        {
          "output_type": "stream",
          "name": "stdout",
          "text": [
            "<class 'pandas.core.frame.DataFrame'>\n",
            "Int64Index: 16646 entries, 0 to 17416\n",
            "Data columns (total 13 columns):\n",
            " #   Column                 Non-Null Count  Dtype  \n",
            "---  ------                 --------------  -----  \n",
            " 0   employee_id            16646 non-null  int64  \n",
            " 1   department             16646 non-null  object \n",
            " 2   region                 16646 non-null  object \n",
            " 3   education              16646 non-null  object \n",
            " 4   gender                 16646 non-null  object \n",
            " 5   recruitment_channel    16646 non-null  object \n",
            " 6   no_of_trainings        16646 non-null  int64  \n",
            " 7   age                    16646 non-null  int64  \n",
            " 8   previous_year_rating   15424 non-null  float64\n",
            " 9   length_of_service      16646 non-null  int64  \n",
            " 10  KPIs_met_more_than_80  16646 non-null  int64  \n",
            " 11  awards_won             16646 non-null  int64  \n",
            " 12  avg_training_score     16646 non-null  int64  \n",
            "dtypes: float64(1), int64(7), object(5)\n",
            "memory usage: 1.8+ MB\n"
          ]
        }
      ]
    },
    {
      "cell_type": "code",
      "source": [
        "DB = DB.dropna(subset =['previous_year_rating'])"
      ],
      "metadata": {
        "id": "Ni_MyCEIcqpH"
      },
      "execution_count": null,
      "outputs": []
    },
    {
      "cell_type": "code",
      "source": [
        "DB.info()"
      ],
      "metadata": {
        "colab": {
          "base_uri": "https://localhost:8080/"
        },
        "id": "I2d7aDRcc2Qd",
        "outputId": "51c5031f-19b5-418f-aaf9-13fb561c3c75"
      },
      "execution_count": null,
      "outputs": [
        {
          "output_type": "stream",
          "name": "stdout",
          "text": [
            "<class 'pandas.core.frame.DataFrame'>\n",
            "Int64Index: 15424 entries, 1 to 17416\n",
            "Data columns (total 13 columns):\n",
            " #   Column                 Non-Null Count  Dtype  \n",
            "---  ------                 --------------  -----  \n",
            " 0   employee_id            15424 non-null  int64  \n",
            " 1   department             15424 non-null  object \n",
            " 2   region                 15424 non-null  object \n",
            " 3   education              15424 non-null  object \n",
            " 4   gender                 15424 non-null  object \n",
            " 5   recruitment_channel    15424 non-null  object \n",
            " 6   no_of_trainings        15424 non-null  int64  \n",
            " 7   age                    15424 non-null  int64  \n",
            " 8   previous_year_rating   15424 non-null  float64\n",
            " 9   length_of_service      15424 non-null  int64  \n",
            " 10  KPIs_met_more_than_80  15424 non-null  int64  \n",
            " 11  awards_won             15424 non-null  int64  \n",
            " 12  avg_training_score     15424 non-null  int64  \n",
            "dtypes: float64(1), int64(7), object(5)\n",
            "memory usage: 1.6+ MB\n"
          ]
        }
      ]
    },
    {
      "cell_type": "code",
      "source": [
        "DB.shape"
      ],
      "metadata": {
        "colab": {
          "base_uri": "https://localhost:8080/"
        },
        "id": "_Bosroddc55R",
        "outputId": "99e73ea3-50a7-4034-ada0-86c36580ee7a"
      },
      "execution_count": null,
      "outputs": [
        {
          "output_type": "execute_result",
          "data": {
            "text/plain": [
              "(15424, 13)"
            ]
          },
          "metadata": {},
          "execution_count": 26
        }
      ]
    },
    {
      "cell_type": "code",
      "source": [
        "DB.head()"
      ],
      "metadata": {
        "colab": {
          "base_uri": "https://localhost:8080/",
          "height": 287
        },
        "id": "mhK8SdxydX_w",
        "outputId": "784b1843-6586-46e8-cdb7-a12510fe8076"
      },
      "execution_count": null,
      "outputs": [
        {
          "output_type": "execute_result",
          "data": {
            "text/plain": [
              "   employee_id         department     region  education gender  \\\n",
              "1        74430                 HR   region_4  Bachelors      f   \n",
              "2        72255  Sales & Marketing  region_13  Bachelors      m   \n",
              "3        38562        Procurement   region_2  Bachelors      f   \n",
              "4        64486            Finance  region_29  Bachelors      m   \n",
              "5        46232        Procurement   region_7  Bachelors      m   \n",
              "\n",
              "  recruitment_channel  no_of_trainings  age  previous_year_rating  \\\n",
              "1               other                1   31                   3.0   \n",
              "2               other                1   31                   1.0   \n",
              "3               other                3   31                   2.0   \n",
              "4            sourcing                1   30                   4.0   \n",
              "5            sourcing                1   36                   3.0   \n",
              "\n",
              "   length_of_service  KPIs_met_more_than_80  awards_won  avg_training_score  \n",
              "1                  5                      0           0                  51  \n",
              "2                  4                      0           0                  47  \n",
              "3                  9                      0           0                  65  \n",
              "4                  7                      0           0                  61  \n",
              "5                  2                      0           0                  68  "
            ],
            "text/html": [
              "\n",
              "  <div id=\"df-3cfe6280-14f3-47c5-bd2a-70104fc093fd\">\n",
              "    <div class=\"colab-df-container\">\n",
              "      <div>\n",
              "<style scoped>\n",
              "    .dataframe tbody tr th:only-of-type {\n",
              "        vertical-align: middle;\n",
              "    }\n",
              "\n",
              "    .dataframe tbody tr th {\n",
              "        vertical-align: top;\n",
              "    }\n",
              "\n",
              "    .dataframe thead th {\n",
              "        text-align: right;\n",
              "    }\n",
              "</style>\n",
              "<table border=\"1\" class=\"dataframe\">\n",
              "  <thead>\n",
              "    <tr style=\"text-align: right;\">\n",
              "      <th></th>\n",
              "      <th>employee_id</th>\n",
              "      <th>department</th>\n",
              "      <th>region</th>\n",
              "      <th>education</th>\n",
              "      <th>gender</th>\n",
              "      <th>recruitment_channel</th>\n",
              "      <th>no_of_trainings</th>\n",
              "      <th>age</th>\n",
              "      <th>previous_year_rating</th>\n",
              "      <th>length_of_service</th>\n",
              "      <th>KPIs_met_more_than_80</th>\n",
              "      <th>awards_won</th>\n",
              "      <th>avg_training_score</th>\n",
              "    </tr>\n",
              "  </thead>\n",
              "  <tbody>\n",
              "    <tr>\n",
              "      <th>1</th>\n",
              "      <td>74430</td>\n",
              "      <td>HR</td>\n",
              "      <td>region_4</td>\n",
              "      <td>Bachelors</td>\n",
              "      <td>f</td>\n",
              "      <td>other</td>\n",
              "      <td>1</td>\n",
              "      <td>31</td>\n",
              "      <td>3.0</td>\n",
              "      <td>5</td>\n",
              "      <td>0</td>\n",
              "      <td>0</td>\n",
              "      <td>51</td>\n",
              "    </tr>\n",
              "    <tr>\n",
              "      <th>2</th>\n",
              "      <td>72255</td>\n",
              "      <td>Sales &amp; Marketing</td>\n",
              "      <td>region_13</td>\n",
              "      <td>Bachelors</td>\n",
              "      <td>m</td>\n",
              "      <td>other</td>\n",
              "      <td>1</td>\n",
              "      <td>31</td>\n",
              "      <td>1.0</td>\n",
              "      <td>4</td>\n",
              "      <td>0</td>\n",
              "      <td>0</td>\n",
              "      <td>47</td>\n",
              "    </tr>\n",
              "    <tr>\n",
              "      <th>3</th>\n",
              "      <td>38562</td>\n",
              "      <td>Procurement</td>\n",
              "      <td>region_2</td>\n",
              "      <td>Bachelors</td>\n",
              "      <td>f</td>\n",
              "      <td>other</td>\n",
              "      <td>3</td>\n",
              "      <td>31</td>\n",
              "      <td>2.0</td>\n",
              "      <td>9</td>\n",
              "      <td>0</td>\n",
              "      <td>0</td>\n",
              "      <td>65</td>\n",
              "    </tr>\n",
              "    <tr>\n",
              "      <th>4</th>\n",
              "      <td>64486</td>\n",
              "      <td>Finance</td>\n",
              "      <td>region_29</td>\n",
              "      <td>Bachelors</td>\n",
              "      <td>m</td>\n",
              "      <td>sourcing</td>\n",
              "      <td>1</td>\n",
              "      <td>30</td>\n",
              "      <td>4.0</td>\n",
              "      <td>7</td>\n",
              "      <td>0</td>\n",
              "      <td>0</td>\n",
              "      <td>61</td>\n",
              "    </tr>\n",
              "    <tr>\n",
              "      <th>5</th>\n",
              "      <td>46232</td>\n",
              "      <td>Procurement</td>\n",
              "      <td>region_7</td>\n",
              "      <td>Bachelors</td>\n",
              "      <td>m</td>\n",
              "      <td>sourcing</td>\n",
              "      <td>1</td>\n",
              "      <td>36</td>\n",
              "      <td>3.0</td>\n",
              "      <td>2</td>\n",
              "      <td>0</td>\n",
              "      <td>0</td>\n",
              "      <td>68</td>\n",
              "    </tr>\n",
              "  </tbody>\n",
              "</table>\n",
              "</div>\n",
              "      <button class=\"colab-df-convert\" onclick=\"convertToInteractive('df-3cfe6280-14f3-47c5-bd2a-70104fc093fd')\"\n",
              "              title=\"Convert this dataframe to an interactive table.\"\n",
              "              style=\"display:none;\">\n",
              "        \n",
              "  <svg xmlns=\"http://www.w3.org/2000/svg\" height=\"24px\"viewBox=\"0 0 24 24\"\n",
              "       width=\"24px\">\n",
              "    <path d=\"M0 0h24v24H0V0z\" fill=\"none\"/>\n",
              "    <path d=\"M18.56 5.44l.94 2.06.94-2.06 2.06-.94-2.06-.94-.94-2.06-.94 2.06-2.06.94zm-11 1L8.5 8.5l.94-2.06 2.06-.94-2.06-.94L8.5 2.5l-.94 2.06-2.06.94zm10 10l.94 2.06.94-2.06 2.06-.94-2.06-.94-.94-2.06-.94 2.06-2.06.94z\"/><path d=\"M17.41 7.96l-1.37-1.37c-.4-.4-.92-.59-1.43-.59-.52 0-1.04.2-1.43.59L10.3 9.45l-7.72 7.72c-.78.78-.78 2.05 0 2.83L4 21.41c.39.39.9.59 1.41.59.51 0 1.02-.2 1.41-.59l7.78-7.78 2.81-2.81c.8-.78.8-2.07 0-2.86zM5.41 20L4 18.59l7.72-7.72 1.47 1.35L5.41 20z\"/>\n",
              "  </svg>\n",
              "      </button>\n",
              "      \n",
              "  <style>\n",
              "    .colab-df-container {\n",
              "      display:flex;\n",
              "      flex-wrap:wrap;\n",
              "      gap: 12px;\n",
              "    }\n",
              "\n",
              "    .colab-df-convert {\n",
              "      background-color: #E8F0FE;\n",
              "      border: none;\n",
              "      border-radius: 50%;\n",
              "      cursor: pointer;\n",
              "      display: none;\n",
              "      fill: #1967D2;\n",
              "      height: 32px;\n",
              "      padding: 0 0 0 0;\n",
              "      width: 32px;\n",
              "    }\n",
              "\n",
              "    .colab-df-convert:hover {\n",
              "      background-color: #E2EBFA;\n",
              "      box-shadow: 0px 1px 2px rgba(60, 64, 67, 0.3), 0px 1px 3px 1px rgba(60, 64, 67, 0.15);\n",
              "      fill: #174EA6;\n",
              "    }\n",
              "\n",
              "    [theme=dark] .colab-df-convert {\n",
              "      background-color: #3B4455;\n",
              "      fill: #D2E3FC;\n",
              "    }\n",
              "\n",
              "    [theme=dark] .colab-df-convert:hover {\n",
              "      background-color: #434B5C;\n",
              "      box-shadow: 0px 1px 3px 1px rgba(0, 0, 0, 0.15);\n",
              "      filter: drop-shadow(0px 1px 2px rgba(0, 0, 0, 0.3));\n",
              "      fill: #FFFFFF;\n",
              "    }\n",
              "  </style>\n",
              "\n",
              "      <script>\n",
              "        const buttonEl =\n",
              "          document.querySelector('#df-3cfe6280-14f3-47c5-bd2a-70104fc093fd button.colab-df-convert');\n",
              "        buttonEl.style.display =\n",
              "          google.colab.kernel.accessAllowed ? 'block' : 'none';\n",
              "\n",
              "        async function convertToInteractive(key) {\n",
              "          const element = document.querySelector('#df-3cfe6280-14f3-47c5-bd2a-70104fc093fd');\n",
              "          const dataTable =\n",
              "            await google.colab.kernel.invokeFunction('convertToInteractive',\n",
              "                                                     [key], {});\n",
              "          if (!dataTable) return;\n",
              "\n",
              "          const docLinkHtml = 'Like what you see? Visit the ' +\n",
              "            '<a target=\"_blank\" href=https://colab.research.google.com/notebooks/data_table.ipynb>data table notebook</a>'\n",
              "            + ' to learn more about interactive tables.';\n",
              "          element.innerHTML = '';\n",
              "          dataTable['output_type'] = 'display_data';\n",
              "          await google.colab.output.renderOutput(dataTable, element);\n",
              "          const docLink = document.createElement('div');\n",
              "          docLink.innerHTML = docLinkHtml;\n",
              "          element.appendChild(docLink);\n",
              "        }\n",
              "      </script>\n",
              "    </div>\n",
              "  </div>\n",
              "  "
            ]
          },
          "metadata": {},
          "execution_count": 27
        }
      ]
    },
    {
      "cell_type": "code",
      "source": [
        "#Save the data\n",
        "from google.colab import files\n",
        "DB.to_csv('Cleaned_Employee_data.csv', encoding = 'utf-8', index = False)\n",
        "open('Cleaned_Employee_data.csv', mode='r', encoding='utf-8').read()\n",
        "#download the new clean data\n",
        "files.download('Cleaned_Employee_data.csv')"
      ],
      "metadata": {
        "colab": {
          "base_uri": "https://localhost:8080/",
          "height": 17
        },
        "id": "uBbJlFEfdeH5",
        "outputId": "dea23253-8be1-4138-e6ce-8e52f794a1d1"
      },
      "execution_count": null,
      "outputs": [
        {
          "output_type": "display_data",
          "data": {
            "text/plain": [
              "<IPython.core.display.Javascript object>"
            ],
            "application/javascript": [
              "\n",
              "    async function download(id, filename, size) {\n",
              "      if (!google.colab.kernel.accessAllowed) {\n",
              "        return;\n",
              "      }\n",
              "      const div = document.createElement('div');\n",
              "      const label = document.createElement('label');\n",
              "      label.textContent = `Downloading \"${filename}\": `;\n",
              "      div.appendChild(label);\n",
              "      const progress = document.createElement('progress');\n",
              "      progress.max = size;\n",
              "      div.appendChild(progress);\n",
              "      document.body.appendChild(div);\n",
              "\n",
              "      const buffers = [];\n",
              "      let downloaded = 0;\n",
              "\n",
              "      const channel = await google.colab.kernel.comms.open(id);\n",
              "      // Send a message to notify the kernel that we're ready.\n",
              "      channel.send({})\n",
              "\n",
              "      for await (const message of channel.messages) {\n",
              "        // Send a message to notify the kernel that we're ready.\n",
              "        channel.send({})\n",
              "        if (message.buffers) {\n",
              "          for (const buffer of message.buffers) {\n",
              "            buffers.push(buffer);\n",
              "            downloaded += buffer.byteLength;\n",
              "            progress.value = downloaded;\n",
              "          }\n",
              "        }\n",
              "      }\n",
              "      const blob = new Blob(buffers, {type: 'application/binary'});\n",
              "      const a = document.createElement('a');\n",
              "      a.href = window.URL.createObjectURL(blob);\n",
              "      a.download = filename;\n",
              "      div.appendChild(a);\n",
              "      a.click();\n",
              "      div.remove();\n",
              "    }\n",
              "  "
            ]
          },
          "metadata": {}
        },
        {
          "output_type": "display_data",
          "data": {
            "text/plain": [
              "<IPython.core.display.Javascript object>"
            ],
            "application/javascript": [
              "download(\"download_636feab7-5d6b-42ea-a523-1e5860b76ef7\", \"Cleaned_Employee_data.csv\", 1037131)"
            ]
          },
          "metadata": {}
        }
      ]
    },
    {
      "cell_type": "markdown",
      "source": [
        "# Analysis With SQL"
      ],
      "metadata": {
        "id": "_MD7iJwnn5KJ"
      }
    },
    {
      "cell_type": "markdown",
      "source": [
        "2. List the top 3 departments with the highest average training scores. ( Round average scores up to two decimal places if needed)\n",
        "![image.png](data:image/png;base64,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)\n"
      ],
      "metadata": {
        "id": "Sg84ITZlyhHr"
      }
    },
    {
      "cell_type": "markdown",
      "source": [
        "1.Find the average age of employees in each department and gender group. (Round average age up to two decimal places if needed).\n",
        "\n",
        "\n",
        "\n",
        "![SQL 1.PNG](data:image/png;base64,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)"
      ],
      "metadata": {
        "id": "OUiXPTxvoCYl"
      }
    },
    {
      "cell_type": "markdown",
      "source": [
        "3. Find the percentage of employees who have won awards in each region. (Round percentages up to two decimal places if needed)\n",
        "\n",
        "![image.png](data:image/png;base64,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)"
      ],
      "metadata": {
        "id": "idMYPdyEXZM1"
      }
    },
    {
      "cell_type": "markdown",
      "source": [
        "4. Show the number of employees who have met more than 80% of KPIs for each recruitment channel and education level.\n",
        "\n",
        "![image.png](data:image/png;base64,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)\n",
        "\n"
      ],
      "metadata": {
        "id": "06t1Jyb-3l4P"
      }
    },
    {
      "cell_type": "markdown",
      "source": [
        "5.Find the average length of service for employees in each department, considering only employees with previous year ratings greater than or equal to 4. ( Round average length up to two decimal places if needed)\n",
        "\n",
        "![image.png](data:image/png;base64,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)\n",
        "\n"
      ],
      "metadata": {
        "id": "W8X5ZHUb7WRb"
      }
    },
    {
      "cell_type": "markdown",
      "source": [
        "6.List the top 5 regions with the highest average previous year ratings. ( Round average ratings up to two decimal places if needed)\n",
        "\n",
        "![image.png](data:image/png;base64,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)\n"
      ],
      "metadata": {
        "id": "dY2dl9DY7kBB"
      }
    },
    {
      "cell_type": "markdown",
      "source": [
        "7. List the departments with more than 100 employees having a length of service greater than 5 years.\n",
        "\n",
        "![image.png](data:image/png;base64,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)"
      ],
      "metadata": {
        "id": "7gBuTM3eI3eo"
      }
    },
    {
      "cell_type": "markdown",
      "source": [
        "8.Show the average length of service for employees who have attended more than 3 trainings, grouped by department and gender. ( Round average length up to two decimal places if needed)\n",
        "\n",
        "![image.png](data:image/png;base64,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)\n",
        "\n"
      ],
      "metadata": {
        "id": "7CgNpuyqlmEQ"
      }
    },
    {
      "cell_type": "markdown",
      "source": [
        "9.Find the percentage of female employees who have won awards, per department. Also show the number of female employees who won awards and total female employees. ( Round percentage up to two decimal places if needed)\n",
        "\n",
        "![image.png](data:image/png;base64,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)\n",
        "\n"
      ],
      "metadata": {
        "id": "HEPTL-TW6lvc"
      }
    },
    {
      "cell_type": "markdown",
      "source": [
        "10.Calculate the percentage of employees per department who have a length of service between 5 and 10 years. ( Round percentage up to two decimal places if needed)\n",
        "\n",
        "![image.png](data:image/png;base64,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)"
      ],
      "metadata": {
        "id": "9idm2B06MVMt"
      }
    },
    {
      "cell_type": "markdown",
      "source": [
        "11. Find the top 3 regions with the highest number of employees who have met more than 80% of their KPIs and received at least one award, grouped by department and region.\n",
        "\n",
        "![image.png](data:image/png;base64,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)"
      ],
      "metadata": {
        "id": "6wu1fie6bYH_"
      }
    },
    {
      "cell_type": "markdown",
      "source": [
        "12.Calculate the average length of service for employees per education level and gender, considering only those employees who have completed more than 2 trainings and have an average training score greater than 75 ( Round average length up to two decimal places if needed)\n",
        "\n",
        "![image.png](data:image/png;base64,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)"
      ],
      "metadata": {
        "id": "uVwa6Gf9mmjP"
      }
    },
    {
      "cell_type": "markdown",
      "source": [
        "13.For each department and recruitment channel, find the total number of employees who have met more than 80% of their KPIs, have a previous_year_rating of 5, and have a length of service greater than 10 years.\n",
        "\n",
        "![image.png](data:image/png;base64,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)"
      ],
      "metadata": {
        "id": "RwP79T-eo2U_"
      }
    },
    {
      "cell_type": "markdown",
      "source": [
        "14. Calculate the percentage of employees in each department who have received awards, have a previous_year_rating of 4 or 5, and an average training score above 70, grouped by department and gender ( Round percentage up to two decimal places if needed).\n",
        "\n",
        "![image.png](data:image/png;base64,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)"
      ],
      "metadata": {
        "id": "f_qtHhjApBmA"
      }
    },
    {
      "cell_type": "markdown",
      "source": [
        "15.List the top 5 recruitment channels with the highest average length of service for employees who have met more than 80% of their KPIs, have a previous_year_rating of 5, and an age between 25 and 45 years, grouped by department and recruitment channel. ( Round average length up to two decimal places if needed).\n",
        "\n",
        "![image.png](data:image/png;base64,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)\n",
        "\n"
      ],
      "metadata": {
        "id": "5nfcos_fH9Y6"
      }
    }
  ]
}